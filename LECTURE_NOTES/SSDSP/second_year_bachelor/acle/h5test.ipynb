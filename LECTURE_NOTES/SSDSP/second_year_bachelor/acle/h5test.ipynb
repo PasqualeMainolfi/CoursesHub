{
 "cells": [
  {
   "cell_type": "code",
   "execution_count": 1,
   "id": "587705cd",
   "metadata": {},
   "outputs": [],
   "source": [
    "import h5py\n",
    "import numpy as np"
   ]
  },
  {
   "cell_type": "code",
   "execution_count": 2,
   "id": "bc5625e3",
   "metadata": {},
   "outputs": [],
   "source": [
    "f = h5py.File(\"mortus_marker.h5\", \"r\")\n"
   ]
  },
  {
   "cell_type": "code",
   "execution_count": 25,
   "id": "f75fa944",
   "metadata": {},
   "outputs": [],
   "source": [
    "with open(\"coord.txt\", \"w\") as t:\n",
    "    for i, k in enumerate(f.keys()):\n",
    "        track = f[k]\n",
    "        mark = track.keys()\n",
    "        mark = list(mark)\n",
    "        mark_size = len(track[mark[0]])\n",
    "        for value in range(mark_size):\n",
    "            start = list(track[mark[1]])[value]\n",
    "            end = list(track[mark[0]])[value]\n",
    "            line = f\"{i + 1} {start} {end}\\n\"\n",
    "            t.write(line)\n",
    "        \n"
   ]
  },
  {
   "cell_type": "code",
   "execution_count": 40,
   "id": "aa216d48",
   "metadata": {},
   "outputs": [],
   "source": [
    "with h5py.File(\"test.h5\", \"w\") as t:\n",
    "    t.create_dataset(\"data\", data=(10, 20, 30), dtype=\"f\")\n",
    "\n"
   ]
  },
  {
   "cell_type": "code",
   "execution_count": null,
   "id": "4c56c499",
   "metadata": {},
   "outputs": [],
   "source": []
  }
 ],
 "metadata": {
  "kernelspec": {
   "display_name": "hub",
   "language": "python",
   "name": "python3"
  },
  "language_info": {
   "codemirror_mode": {
    "name": "ipython",
    "version": 3
   },
   "file_extension": ".py",
   "mimetype": "text/x-python",
   "name": "python",
   "nbconvert_exporter": "python",
   "pygments_lexer": "ipython3",
   "version": "3.12.9"
  }
 },
 "nbformat": 4,
 "nbformat_minor": 5
}
